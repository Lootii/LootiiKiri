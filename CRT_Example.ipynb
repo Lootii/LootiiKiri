{
 "cells": [
  {
   "cell_type": "markdown",
   "metadata": {},
   "source": [
    "# Chinese Remainder Theorem (CRT)\n",
    "\n",
    "The Chinese Remainder Theorem (CRT) is a theorem used for solving systems of simultaneous congruences. It is particularly useful in **cryptography** and **computational number theory** when dealing with large numbers. The theorem allows large numbers to be broken down into smaller components to simplify calculations.\n",
    "\n",
    "CRT guarantees a unique solution to a system of simultaneous congruences when the moduli are **pairwise coprime** (i.e., their greatest common divisor is 1)."
   ]
  },
  {
   "cell_type": "markdown",
   "metadata": {},
   "source": [
    "## The Problem\n",
    "Given a set of integers $m_1, m_2, ..., m_k$, where each $m_i$ is **pairwise coprime**, and given integers $a_1, a_2, ..., a_k$, we want to find an integer $A$ that satisfies the system of congruences:\n",
    "\n",
    "$$\n",
    "A \\equiv a_1 \\pmod{m_1},\n",
    "A \\equiv a_2 \\pmod{m_2},\n",
    "...\n",
    "A \\equiv a_k \\pmod{m_k}\n",
    "$$\n",
    "\n",
    "This unique integer solution can be represented as a tuple $(a_1, a_2, ..., a_k)$, and operations on integers modulo $M = m_1 m_2 ... m_k$ can be performed element-wise on the corresponding tuple."
   ]
  },
  {
   "cell_type": "markdown",
   "metadata": {},
   "source": [
    "### Why is this useful?\n",
    "When dealing with large integers, modular arithmetic with large moduli can be computationally expensive. By breaking down a problem into smaller moduli, the CRT allows us to perform arithmetic on smaller numbers, which is faster and more efficient."
   ]
  },
  {
   "cell_type": "markdown",
   "metadata": {},
   "source": [
    "## Example: Solving a System of Congruences\n",
    "\n",
    "Let's start by solving a system of congruences with **3 moduli**.\n",
    "\n",
    "Consider the following system of congruences:\n",
    "\n",
    "$$\n",
    "A \\equiv 2 \\pmod{3},\n",
    "A \\equiv 3 \\pmod{5},\n",
    "A \\equiv 0 \\pmod{7}\n",
    "$$\n",
    "\n",
    "We need to find an integer $A$ that satisfies all three conditions."
   ]
  },
  {
   "cell_type": "markdown",
   "metadata": {},
   "source": [
    "**Result:** The product of the moduli is $M = 3 \\times 5 \\times 7 = 105$. This means that the solution will be an integer modulo 105."
   ]
  },
  {
   "cell_type": "markdown",
   "metadata": {},
   "source": [
    "### Step 2: Calculate $M_i$ values\n",
    "\n",
    "We now calculate $M_i = \\frac{M}{m_i}$ for each modulus $m_i$."
   ]
  },
  {
   "cell_type": "markdown",
   "metadata": {},
   "source": [
    "**Result:**\n",
    "- $M_1 = M_2*M_3 = 5*7= 35$\n",
    "- $M_2 = M_1 * M_3 = 3*7 = 21$\n",
    "- $M_3 = M_1*M_2 = 3*5 = 15$\n",
    "\n",
    "These $M_i$ values will help us construct the final solution."
   ]
  },
  {
   "cell_type": "markdown",
   "metadata": {},
   "source": [
    "### Step 3: Find the Multiplicative Inverses\n",
    "\n",
    "For each $M_i$, we need to find the inverse modulo $m_i$. This inverse will satisfy the following condition:\n",
    "\n",
    "$$\n",
    "M_i \\times d_i \\equiv 1 \\pmod{m_i}\n",
    "$$\n",
    "\n",
    "We'll use the Extended Euclidean Algorithm to find these inverses."
   ]
  },
  {
   "cell_type": "markdown",
   "metadata": {},
   "source": [
    "**Result:**\n",
    "- $d_1 = 2$ (since $35 \\times 2 \\equiv 1 \\pmod{3}$)\n",
    "- $d_2 = 1$ (since $21 \\times 1 \\equiv 1 \\pmod{5}$)\n",
    "- $d_3 = 1$ (since $15 \\times 1 \\equiv 1 \\pmod{7}$)\n",
    "\n",
    "These are the multiplicative inverses that will allow us to reconstruct the solution."
   ]
  },
  {
   "cell_type": "markdown",
   "metadata": {},
   "source": [
    "### Step 4: Construct the Solution\n",
    "\n",
    "The solution is constructed using the formula:\n",
    "\n",
    "$$\n",
    "A = (a_1 \\times M_1 \\times d_1) + (a_2 \\times M_2 \\times d_2) + (a_3 \\times M_3 \\times d_3) \\pmod{M}\n",
    "$$\n",
    "\n",
    "Where $a_1 = 2$, $a_2 = 3$, and $a_3 = 0$."
   ]
  },
  {
   "cell_type": "markdown",
   "metadata": {},
   "source": [
    "**Result:** The solution is $A = 98$.\n",
    "\n",
    "Therefore, $A = 98$ is the unique solution modulo 105 to the system of congruences:\n",
    "$$\n",
    "A \\equiv 2 \\pmod{3},\n",
    "A \\equiv 3 \\pmod{5},\n",
    "A \\equiv 0 \\pmod{7}\n",
    "$$"
   ]
  },
  {
   "cell_type": "markdown",
   "metadata": {},
   "source": [
    "## Representing $ A $:\n",
    "Let $ A = 98 $  \n",
    "$$ (98 \\mod 3, 98 \\mod 5, 98 \\mod 7) = (2, 3, 0) $$\n",
    "\n",
    "## Reconstruction:\n",
    "Compute:\n",
    "$$ (2 \\cdot 70) + (3 \\cdot 21) + (0 \\cdot 15) \\mod 105 = 140 + 63 \\mod 105 = 203 \\mod 105 = 98 $$\n",
    "This confirms the representation is correct."
   ]
  },
  {
   "cell_type": "markdown",
   "metadata": {},
   "source": [
    "## Verifying the Solution\n",
    "\n",
    "To verify, we'll check whether $A = 98$ satisfies all the original congruences."
   ]
  },
  {
   "cell_type": "markdown",
   "metadata": {},
   "source": [
    "**Verification Result:**\n",
    "- $98 \\equiv 2 \\pmod{3}$\n",
    "- $98 \\equiv 3 \\pmod{5}$\n",
    "- $98 \\equiv 0 \\pmod{7}$\n",
    "\n",
    "Since all three conditions hold, the solution is correct."
   ]
  },
  {
   "cell_type": "markdown",
   "metadata": {},
   "source": [
    "## Conclusion\n",
    "The Chinese Remainder Theorem provides a method to solve systems of simultaneous congruences when the moduli are pairwise coprime. In this example, we found that the unique solution modulo 105 is $A = 98$.\n",
    "\n",
    "The CRT is especially useful in number theory, cryptography (such as RSA encryption), and other fields that deal with large numbers and modular arithmetic."
   ]
  }
 ],
 "metadata": {
  "kernelspec": {
   "display_name": "Python 3",
   "language": "python",
   "name": "python3"
  },
  "language_info": {
   "name": "python",
   "version": "3.8.5"
  }
 },
 "nbformat": 4,
 "nbformat_minor": 4
}
